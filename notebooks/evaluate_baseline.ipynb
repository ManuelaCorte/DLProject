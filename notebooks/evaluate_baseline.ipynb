{
  "cells": [
    {
      "cell_type": "code",
      "execution_count": null,
      "metadata": {
        "colab": {
          "base_uri": "https://localhost:8080/"
        },
        "id": "dG5wYc-jtAaa",
        "outputId": "755fe4ec-9cca-4cdd-bfbe-62005a0e84a1"
      },
      "outputs": [],
      "source": [
        "%cd /content/\n",
        "!rm -rf DLProject/\n",
        "!git clone https://github.com/ManuelaCorte/DLProject.git"
      ]
    },
    {
      "cell_type": "code",
      "execution_count": null,
      "metadata": {
        "colab": {
          "base_uri": "https://localhost:8080/"
        },
        "id": "vXRDJZUis88P",
        "outputId": "d6fb2322-409e-45b4-8c4f-0c201bf90e9c"
      },
      "outputs": [],
      "source": [
        "%cd /content/DLProject/"
      ]
    },
    {
      "cell_type": "code",
      "execution_count": null,
      "metadata": {
        "colab": {
          "base_uri": "https://localhost:8080/",
          "height": 382
        },
        "id": "ezy2v_4jG6qX",
        "outputId": "66bd4098-b0ff-413c-9665-8deb8a703f71"
      },
      "outputs": [],
      "source": [
        "%pip install ftfy regex tqdm spacy ultralytics\n",
        "%pip install git+https://github.com/openai/CLIP.git\n",
        "!python -m spacy download en_core_web_lg"
      ]
    },
    {
      "cell_type": "code",
      "execution_count": null,
      "metadata": {
        "id": "f3nVP6J3G7ET"
      },
      "outputs": [],
      "source": [
        "import sys\n",
        "sys.path.append('DLProject/src/')"
      ]
    },
    {
      "cell_type": "code",
      "execution_count": null,
      "metadata": {
        "colab": {
          "base_uri": "https://localhost:8080/"
        },
        "id": "OGx9ebN1Fd6a",
        "outputId": "a5bdd887-a179-49c1-d154-fb5e8e76b69b"
      },
      "outputs": [],
      "source": [
        "import gdown\n",
        "import os\n",
        "\n",
        "\n",
        "# Download dataset and save under data/raw/ only if not already downloaded\n",
        "url = \"https://drive.google.com/uc?id=1xijq32XfEm6FPhUb7RsZYWHc2UuwVkiq\"\n",
        "if not os.path.exists(\"data/raw/refcocog.tar.gz\"):\n",
        "    print(\"Downloading dataset...\")\n",
        "    gdown.download(url=url, output=\"data/raw/\", quiet=False, resume=True)\n",
        "if not os.path.exists(\"data/raw/refcocog/\"):\n",
        "    print(\"Extracting dataset...\")\n",
        "    !tar -xf data/raw/refcocog.tar.gz -C data/raw/ --verbose"
      ]
    },
    {
      "cell_type": "code",
      "execution_count": null,
      "metadata": {
        "colab": {
          "base_uri": "https://localhost:8080/"
        },
        "id": "jRy8W_mUQhHr",
        "outputId": "c4d9a0fd-6105-4551-8241-1e209fbabaca"
      },
      "outputs": [],
      "source": [
        "%cd src/"
      ]
    },
    {
      "cell_type": "code",
      "execution_count": null,
      "metadata": {
        "colab": {
          "base_uri": "https://localhost:8080/"
        },
        "id": "AjGpwBgPD1pp",
        "outputId": "6a7727ee-9cf4-4b12-9ccb-6c2e3e7bd2d3"
      },
      "outputs": [],
      "source": [
        "from tqdm import tqdm\n",
        "from vgproject.utils.bbox_types import BboxType\n",
        "from vgproject.utils.misc import custom_collate\n",
        "from vgproject.data.dataset import VGDataset\n",
        "from vgproject.data.data_types import Split\n",
        "from vgproject.models.baseline import Baseline\n",
        "from clip import clip\n",
        "import torch\n",
        "from torch.utils.data import DataLoader\n",
        "from torchvision.ops import box_iou\n",
        "from vgproject.utils.config import Config\n",
        "\n",
        "cfg = Config.get_instance()\n",
        "\n",
        "test_data = VGDataset(\n",
        "    dir_path=cfg.dataset[\"path\"],\n",
        "    split=Split(cfg.dataset[\"split\"]),\n",
        "    output_bbox_type=BboxType.XYXY,\n",
        "    transform_image=None,\n",
        "    transform_text=clip.tokenize,\n",
        "    dependencies=False,\n",
        ")\n",
        "\n",
        "dataloader = DataLoader(\n",
        "    test_data,\n",
        "    batch_size=cfg.model[\"batch_size\"],\n",
        "    shuffle=False,\n",
        "    collate_fn=custom_collate,\n",
        "    drop_last=True,\n",
        ")\n",
        "\n",
        "baseline = Baseline()\n",
        "\n",
        "batches_acc = []\n",
        "for batch, bboxes in tqdm(dataloader):\n",
        "    prediction = baseline.predict(batch)\n",
        "    bbox_pred = torch.stack([p.bounding_box for p in prediction]).to(baseline.device)\n",
        "    bbox_gt = bboxes.clone().detach().squeeze(1).to(baseline.device)\n",
        "    # print(bbox_pred.shape, bbox_gt.shape)\n",
        "    iou = box_iou(bbox_pred, bbox_gt).to(baseline.device)\n",
        "    acc = torch.mean(torch.diagonal(iou))\n",
        "    batches_acc.append(acc)\n",
        "    # print('Accuracy: ', acc)\n",
        "\n",
        "accuracy = torch.mean(torch.stack(batches_acc))\n",
        "print(\"Iou: \", accuracy)"
      ]
    }
  ],
  "metadata": {
    "accelerator": "GPU",
    "colab": {
      "provenance": []
    },
    "kernelspec": {
      "display_name": "Python 3",
      "name": "python3"
    },
    "language_info": {
      "name": "python"
    }
  },
  "nbformat": 4,
  "nbformat_minor": 0
}
